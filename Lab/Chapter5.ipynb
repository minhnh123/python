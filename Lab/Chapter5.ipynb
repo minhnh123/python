{
 "cells": [
  {
   "cell_type": "code",
   "execution_count": 1,
   "id": "acee2d98-d1e4-475b-a91f-1506761d1ffe",
   "metadata": {},
   "outputs": [
    {
     "data": {
      "text/plain": [
       "' Example1'"
      ]
     },
     "execution_count": 1,
     "metadata": {},
     "output_type": "execute_result"
    }
   ],
   "source": [
    "''' Example1'''"
   ]
  },
  {
   "cell_type": "code",
   "execution_count": 2,
   "id": "280d8ef5-74b7-4bec-b8da-7bfdc74662a5",
   "metadata": {},
   "outputs": [],
   "source": [
    "import numpy as np\n",
    "empty_array = np.empty(2, dtype=int)"
   ]
  },
  {
   "cell_type": "code",
   "execution_count": 8,
   "id": "0eb3b0b5-4848-4a38-a7b6-972a7f587dfc",
   "metadata": {},
   "outputs": [
    {
     "name": "stdout",
     "output_type": "stream",
     "text": [
      "[0. 0. 0. 0. 0.]\n"
     ]
    }
   ],
   "source": [
    "zeros_array = np.zeros(5)\n",
    "print(zeros_array)"
   ]
  },
  {
   "cell_type": "code",
   "execution_count": 9,
   "id": "a8dcacfa-f0da-4afe-ad77-2aa27fd05d4a",
   "metadata": {},
   "outputs": [
    {
     "name": "stdout",
     "output_type": "stream",
     "text": [
      "[0 1 2 3 4 5 6 7 8 9]\n"
     ]
    }
   ],
   "source": [
    "arange_array = np.arange(0, 10)\n",
    "print(arange_array)"
   ]
  },
  {
   "cell_type": "code",
   "execution_count": 10,
   "id": "ce5288e6-abf5-4885-b23f-5ce81b7f02f1",
   "metadata": {},
   "outputs": [
    {
     "name": "stdout",
     "output_type": "stream",
     "text": [
      "[[1. 0. 0.]\n",
      " [0. 1. 0.]\n",
      " [0. 0. 1.]]\n"
     ]
    }
   ],
   "source": [
    "eye_matrix = np.eye(3)\n",
    "print(eye_matrix)"
   ]
  },
  {
   "cell_type": "code",
   "execution_count": 11,
   "id": "d437a38c-07c9-450c-80c3-b6dc693144ec",
   "metadata": {},
   "outputs": [
    {
     "name": "stdout",
     "output_type": "stream",
     "text": [
      "[[9 6 6]\n",
      " [7 7 4]\n",
      " [5 8 3]]\n"
     ]
    }
   ],
   "source": [
    "randint_array = np.random.randint(1, 10,(3, 3))\n",
    "print(randint_array)"
   ]
  },
  {
   "cell_type": "code",
   "execution_count": 12,
   "id": "a234709c-1192-455c-b6df-6e43c0c0d2e9",
   "metadata": {},
   "outputs": [
    {
     "name": "stdout",
     "output_type": "stream",
     "text": [
      "[[0.70880135 0.03290659 0.20739193]\n",
      " [0.9717547  0.53950017 0.61156876]]\n"
     ]
    }
   ],
   "source": [
    "rand_array = np.random.rand(2, 3)\n",
    "print(rand_array)"
   ]
  },
  {
   "cell_type": "code",
   "execution_count": 13,
   "id": "3ae2d9ba-9b93-42b0-af47-db9640483b48",
   "metadata": {},
   "outputs": [
    {
     "data": {
      "text/plain": [
       "'Example2: '"
      ]
     },
     "execution_count": 13,
     "metadata": {},
     "output_type": "execute_result"
    }
   ],
   "source": [
    "'''Example2: '''"
   ]
  },
  {
   "cell_type": "code",
   "execution_count": 15,
   "id": "d4e532b6-ec62-4996-bae8-580031d78d9c",
   "metadata": {},
   "outputs": [
    {
     "name": "stdout",
     "output_type": "stream",
     "text": [
      "arr : [1 2 3 4 5]\n",
      "Shape of arr: (5,)\n",
      "Size of arr: 5\n",
      "Data type of arr : int32\n",
      "Number of dimensions of arr: 1\n"
     ]
    }
   ],
   "source": [
    "import numpy as np\n",
    "arr = np.array([1 , 2, 3, 4, 5])\n",
    "print(\"arr :\", arr)\n",
    "print(\"Shape of arr:\", arr.shape)\n",
    "print(\"Size of arr:\", arr.size)\n",
    "print(\"Data type of arr :\", arr.dtype)\n",
    "print(\"Number of dimensions of arr:\", arr.ndim) "
   ]
  },
  {
   "cell_type": "code",
   "execution_count": 16,
   "id": "64d7527d-3eaf-4809-af3e-7035f3434a08",
   "metadata": {},
   "outputs": [
    {
     "data": {
      "text/plain": [
       "'Example 3'"
      ]
     },
     "execution_count": 16,
     "metadata": {},
     "output_type": "execute_result"
    }
   ],
   "source": [
    "'''Example 3'''"
   ]
  },
  {
   "cell_type": "code",
   "execution_count": 17,
   "id": "2f337709-1630-4215-bd39-2d7d1854d896",
   "metadata": {},
   "outputs": [
    {
     "name": "stdout",
     "output_type": "stream",
     "text": [
      "The first element of arr1d:  1\n",
      "The last element of arr1d:  5\n"
     ]
    }
   ],
   "source": [
    "import numpy as np\n",
    "arr1d = np.array([1 , 2, 3, 4, 5])\n",
    "first_element = arr1d[0]\n",
    "print(\"The first element of arr1d: \", first_element )\n",
    "last_element = arr1d[-1]\n",
    "print(\"The last element of arr1d: \",last_element )\n"
   ]
  },
  {
   "cell_type": "code",
   "execution_count": 18,
   "id": "3f66626a-a10f-47a8-a6e4-20d3536e61b2",
   "metadata": {},
   "outputs": [
    {
     "data": {
      "text/plain": [
       "'Example 4'"
      ]
     },
     "execution_count": 18,
     "metadata": {},
     "output_type": "execute_result"
    }
   ],
   "source": [
    "'''Example 4'''"
   ]
  },
  {
   "cell_type": "code",
   "execution_count": 19,
   "id": "f59f5303-4a1d-432a-81db-7aad14eaea33",
   "metadata": {},
   "outputs": [
    {
     "name": "stdout",
     "output_type": "stream",
     "text": [
      "[[1 2 3]\n",
      " [4 5 6]]\n",
      "2\n"
     ]
    }
   ],
   "source": [
    "import numpy as np\n",
    "arr2d = np.array([[1, 2, 3], [4, 5, 6]])\n",
    "print(arr2d)\n",
    "element_1_2 = arr2d[0, 1] \n",
    "print(element_1_2 ) \n"
   ]
  },
  {
   "cell_type": "code",
   "execution_count": null,
   "id": "d2d5475b-f689-4d09-8ed1-2802853b9211",
   "metadata": {},
   "outputs": [],
   "source": []
  }
 ],
 "metadata": {
  "kernelspec": {
   "display_name": "Python [conda env:base] *",
   "language": "python",
   "name": "conda-base-py"
  },
  "language_info": {
   "codemirror_mode": {
    "name": "ipython",
    "version": 3
   },
   "file_extension": ".py",
   "mimetype": "text/x-python",
   "name": "python",
   "nbconvert_exporter": "python",
   "pygments_lexer": "ipython3",
   "version": "3.12.7"
  }
 },
 "nbformat": 4,
 "nbformat_minor": 5
}
