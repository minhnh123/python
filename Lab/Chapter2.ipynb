{
 "cells": [
  {
   "cell_type": "code",
   "execution_count": 4,
   "id": "35935ade-a37e-4128-8499-a9f262699fb4",
   "metadata": {},
   "outputs": [
    {
     "data": {
      "text/plain": [
       "'Bài 1. Viết chương trình nhập vào một chuỗi\\nXuất ra màn hình chuỗi ký tự hoa\\nXuất ra màn hình chuỗi ký tự có ký tự đầu là ký tự hoa\\nXuất ra màn hình chuỗi ký tự thường'"
      ]
     },
     "execution_count": 4,
     "metadata": {},
     "output_type": "execute_result"
    }
   ],
   "source": [
    "\"\"\"\n",
    "Bài 1. Viết chương trình nhập vào một chuỗi\n",
    "Xuất ra màn hình chuỗi ký tự hoa\n",
    "Xuất ra màn hình chuỗi ký tự có ký tự đầu là ký tự hoa\n",
    "Xuất ra màn hình chuỗi ký tự thường\n",
    "\"\"\"\n"
   ]
  },
  {
   "cell_type": "code",
   "execution_count": null,
   "id": "9d2f01df-e2a9-4b2c-8cc6-fc4b9af2cdce",
   "metadata": {},
   "outputs": [],
   "source": [
    "st = input(\"Enter your string:\")\n",
    "st_upper = st.upper()\n",
    "st_lower = st.lower()\n",
    "st_title = st.title()\n",
    "\n",
    "print(\"A Upper String is: \" + st_upper)\n",
    "print(\"A Lower String is : \" + st_lower)\n",
    "print(\"A Title String is : \" + st_title)"
   ]
  },
  {
   "cell_type": "code",
   "execution_count": 5,
   "id": "98e97b62-9325-4274-80fe-98c384875cbc",
   "metadata": {},
   "outputs": [
    {
     "data": {
      "text/plain": [
       "'\\nBài 2. Cho chuỗi biểu diễn địa chỉ email:   \" minhnhutvh@gmail.com\" \\nRút trích và hiển thị chuỗi \"gmail.com\" (Đây chính là  tên Host)\\n'"
      ]
     },
     "execution_count": 5,
     "metadata": {},
     "output_type": "execute_result"
    }
   ],
   "source": [
    "'''\n",
    "Bài 2. Cho chuỗi biểu diễn địa chỉ email:   \" minhnhutvh@gmail.com\" \n",
    "Rút trích và hiển thị chuỗi \"gmail.com\" (Đây chính là  tên Host)\n",
    "'''"
   ]
  },
  {
   "cell_type": "code",
   "execution_count": 3,
   "id": "2208cd36-d314-4927-9fb5-55bc689b501e",
   "metadata": {},
   "outputs": [
    {
     "name": "stdout",
     "output_type": "stream",
     "text": [
      "gmail.com\n"
     ]
    }
   ],
   "source": [
    "data = \"minhnhutvh@gmail.com\"\n",
    "position = data.find(\"@\")               \n",
    "host = data[position +1 :]\n",
    "print(host)\n"
   ]
  },
  {
   "cell_type": "code",
   "execution_count": 4,
   "id": "2411f1dd-bada-4dc7-90be-d5b14be8685d",
   "metadata": {},
   "outputs": [
    {
     "data": {
      "text/plain": [
       "'\\nBài 3. Cho chuỗi biểu diễn:  \\n        ‘minhnhutvh@gmai.com Sat Jan 5 09:14:16’\\nRút trích và hiển thị chuỗi “gmail.com”\\n'"
      ]
     },
     "execution_count": 4,
     "metadata": {},
     "output_type": "execute_result"
    }
   ],
   "source": [
    "'''\n",
    "Bài 3. Cho chuỗi biểu diễn:  \n",
    "        ‘minhnhutvh@gmai.com Sat Jan 5 09:14:16’\n",
    "Rút trích và hiển thị chuỗi “gmail.com”\n",
    "'''"
   ]
  },
  {
   "cell_type": "code",
   "execution_count": 7,
   "id": "c60f43e5-e0ba-4f2f-be62-a3df3ed218a8",
   "metadata": {},
   "outputs": [
    {
     "name": "stdout",
     "output_type": "stream",
     "text": [
      "gmail.com\n"
     ]
    }
   ],
   "source": [
    "data = \"minhnhutvh@gmail.com Sat Jan 5 09:14:16\"\n",
    "Start_position = data.find(\"@\")                #  10\n",
    "End_position = data.find(\" \", Start_position)  #  26\n",
    "host = data[Start_position +1 : End_position]\n",
    "print(host)\n"
   ]
  },
  {
   "cell_type": "code",
   "execution_count": 8,
   "id": "4a1b2728-50bc-488b-9e8d-db3b27daf173",
   "metadata": {},
   "outputs": [
    {
     "data": {
      "text/plain": [
       "' Những bài thực hành còn lại. Sinh viên tự làm'"
      ]
     },
     "execution_count": 8,
     "metadata": {},
     "output_type": "execute_result"
    }
   ],
   "source": [
    "''' Những bài thực hành còn lại. Sinh viên tự làm'''"
   ]
  },
  {
   "cell_type": "code",
   "execution_count": null,
   "id": "d7e501cf-58a4-4d4d-bc28-6c8d4b93ce7a",
   "metadata": {},
   "outputs": [],
   "source": []
  }
 ],
 "metadata": {
  "kernelspec": {
   "display_name": "Python [conda env:base] *",
   "language": "python",
   "name": "conda-base-py"
  },
  "language_info": {
   "codemirror_mode": {
    "name": "ipython",
    "version": 3
   },
   "file_extension": ".py",
   "mimetype": "text/x-python",
   "name": "python",
   "nbconvert_exporter": "python",
   "pygments_lexer": "ipython3",
   "version": "3.12.7"
  }
 },
 "nbformat": 4,
 "nbformat_minor": 5
}
