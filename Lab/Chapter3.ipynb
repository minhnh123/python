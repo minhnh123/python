{
 "cells": [
  {
   "cell_type": "code",
   "execution_count": null,
   "id": "3bb0ab08-53ec-4dca-b09e-2124364d6c03",
   "metadata": {},
   "outputs": [],
   "source": [
    "''' Example 1'''"
   ]
  },
  {
   "cell_type": "code",
   "execution_count": 10,
   "id": "c4200573-c7f3-40f5-b705-e44476e733e3",
   "metadata": {},
   "outputs": [],
   "source": [
    "class oto():# Define a oto class\n",
    "    def __init__(self, c, num):\n",
    "        self.color = c\n",
    "        self.numberWheel = num\n",
    "    def Start_the_oto(self):\n",
    "        print(\"Starting...\")"
   ]
  },
  {
   "cell_type": "code",
   "execution_count": 11,
   "id": "b1e9776d-779c-45c1-868b-7d0875affc6d",
   "metadata": {},
   "outputs": [
    {
     "name": "stdout",
     "output_type": "stream",
     "text": [
      "Color of Oto is:  blue\n",
      "Starting...\n"
     ]
    }
   ],
   "source": [
    "my_oto = oto(\"blue\", 6)# Make a my_oto object\n",
    "print(\"Color of Oto is: \", my_oto.color)\n",
    "my_oto.Start_the_oto()"
   ]
  },
  {
   "cell_type": "code",
   "execution_count": null,
   "id": "339f1ba9-5a3b-4d95-8186-ad54da5f31d6",
   "metadata": {},
   "outputs": [],
   "source": [
    "'''Example 2'''"
   ]
  },
  {
   "cell_type": "code",
   "execution_count": 12,
   "id": "cb3aec3c-e5da-40a4-93ce-07c6cf66b6c1",
   "metadata": {},
   "outputs": [
    {
     "name": "stdin",
     "output_type": "stream",
     "text": [
      "Enter a string: hell0\n"
     ]
    },
    {
     "name": "stdout",
     "output_type": "stream",
     "text": [
      "HELL0\n"
     ]
    }
   ],
   "source": [
    "class InputOutString:# define a InputOutString Class\n",
    "\tdef __init__(self, c):\n",
    "\t    self.str = c\n",
    "\tdef getString(self):\n",
    "\t    self.str = input(\"Enter a string:\")\n",
    "\tdef printString(self): \n",
    "           print(self.str.upper())\n",
    "st=''\n",
    "strObj = InputOutString(st) # Create a strObj Oject\n",
    "strObj.getString() # Call a getString() method\n",
    "strObj.printString() # Call a printString() method\n"
   ]
  },
  {
   "cell_type": "code",
   "execution_count": 14,
   "id": "8a2c1ad3-0b0d-495c-8248-33f579e9b435",
   "metadata": {},
   "outputs": [
    {
     "data": {
      "text/plain": [
       "' Sinh viên thực hiện các ví dụ còn lại của Chapter 3'"
      ]
     },
     "execution_count": 14,
     "metadata": {},
     "output_type": "execute_result"
    }
   ],
   "source": [
    "''' Sinh viên thực hiện các ví dụ còn lại của Chapter 3'''"
   ]
  },
  {
   "cell_type": "code",
   "execution_count": null,
   "id": "4f407e2b-daf8-471b-8b36-9d5606c066a0",
   "metadata": {},
   "outputs": [],
   "source": []
  }
 ],
 "metadata": {
  "kernelspec": {
   "display_name": "Python [conda env:base] *",
   "language": "python",
   "name": "conda-base-py"
  },
  "language_info": {
   "codemirror_mode": {
    "name": "ipython",
    "version": 3
   },
   "file_extension": ".py",
   "mimetype": "text/x-python",
   "name": "python",
   "nbconvert_exporter": "python",
   "pygments_lexer": "ipython3",
   "version": "3.12.7"
  }
 },
 "nbformat": 4,
 "nbformat_minor": 5
}
