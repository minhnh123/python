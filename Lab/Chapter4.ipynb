{
 "cells": [
  {
   "cell_type": "code",
   "execution_count": null,
   "id": "3d014a77-1848-433c-9873-14c5db49d7c4",
   "metadata": {},
   "outputs": [],
   "source": [
    "'''Example 1\n",
    "'''"
   ]
  },
  {
   "cell_type": "code",
   "execution_count": 1,
   "id": "e2e43c93-765c-4337-b7b2-4e88b4927c78",
   "metadata": {},
   "outputs": [
    {
     "name": "stdout",
     "output_type": "stream",
     "text": [
      "Defaulting to user installation because normal site-packages is not writeableNote: you may need to restart the kernel to use updated packages.\n",
      "\n",
      "Looking in indexes: https://pypi.tuna.tsinghua.edu.cn/simple\n",
      "Requirement already satisfied: requests in c:\\programdata\\anaconda3\\lib\\site-packages (2.32.3)\n",
      "Requirement already satisfied: charset-normalizer<4,>=2 in c:\\programdata\\anaconda3\\lib\\site-packages (from requests) (3.3.2)\n",
      "Requirement already satisfied: idna<4,>=2.5 in c:\\programdata\\anaconda3\\lib\\site-packages (from requests) (3.7)\n",
      "Requirement already satisfied: urllib3<3,>=1.21.1 in c:\\programdata\\anaconda3\\lib\\site-packages (from requests) (2.2.3)\n",
      "Requirement already satisfied: certifi>=2017.4.17 in c:\\programdata\\anaconda3\\lib\\site-packages (from requests) (2025.4.26)\n"
     ]
    }
   ],
   "source": [
    "pip install requests"
   ]
  },
  {
   "cell_type": "code",
   "execution_count": 2,
   "id": "3708dd15-c360-4409-82cb-75dd04687210",
   "metadata": {},
   "outputs": [
    {
     "name": "stdout",
     "output_type": "stream",
     "text": [
      "Defaulting to user installation because normal site-packages is not writeable\n",
      "Looking in indexes: https://pypi.tuna.tsinghua.edu.cn/simple\n",
      "Collecting bs4\n",
      "  Downloading https://pypi.tuna.tsinghua.edu.cn/packages/51/bb/bf7aab772a159614954d84aa832c129624ba6c32faa559dfb200a534e50b/bs4-0.0.2-py2.py3-none-any.whl (1.2 kB)\n",
      "Requirement already satisfied: beautifulsoup4 in c:\\programdata\\anaconda3\\lib\\site-packages (from bs4) (4.12.3)\n",
      "Requirement already satisfied: soupsieve>1.2 in c:\\programdata\\anaconda3\\lib\\site-packages (from beautifulsoup4->bs4) (2.5)\n",
      "Installing collected packages: bs4\n",
      "Successfully installed bs4-0.0.2\n",
      "Note: you may need to restart the kernel to use updated packages.\n"
     ]
    }
   ],
   "source": [
    "pip install bs4 "
   ]
  },
  {
   "cell_type": "code",
   "execution_count": 4,
   "id": "7aa31134-37ca-4dbb-8bb4-8a9fe179c981",
   "metadata": {},
   "outputs": [
    {
     "name": "stdout",
     "output_type": "stream",
     "text": [
      "Example Domain\n"
     ]
    }
   ],
   "source": [
    "from bs4 import BeautifulSoup\n",
    "import requests # Fetch the web page\n",
    "url = \"https://example.com\"\n",
    "response = requests.get(url)\n",
    "data = response.text # Parse the HTML content\n",
    "soup = BeautifulSoup(data, \"html.parser\") # Extract specific elements\n",
    "titles = soup.find_all(\"h1\")\n",
    "for title in titles:\n",
    "    print(title.text)\n"
   ]
  },
  {
   "cell_type": "code",
   "execution_count": 5,
   "id": "f1985181-4eb8-4c7d-a652-e6971059c906",
   "metadata": {},
   "outputs": [
    {
     "data": {
      "text/plain": [
       "'Example 2'"
      ]
     },
     "execution_count": 5,
     "metadata": {},
     "output_type": "execute_result"
    }
   ],
   "source": [
    "'''Example 2'''"
   ]
  },
  {
   "cell_type": "code",
   "execution_count": 6,
   "id": "8c3bbcfb-58c7-4703-918e-04aa470e6067",
   "metadata": {},
   "outputs": [
    {
     "name": "stdout",
     "output_type": "stream",
     "text": [
      "Defaulting to user installation because normal site-packages is not writeable\n",
      "Looking in indexes: https://pypi.tuna.tsinghua.edu.cn/simple\n",
      "Collecting speedtest-cli\n",
      "  Downloading https://pypi.tuna.tsinghua.edu.cn/packages/9f/39/65259b7054368b370d3183762484fa2c779ddc41633894d895f9d1720f45/speedtest_cli-2.1.3-py2.py3-none-any.whl (23 kB)\n",
      "Installing collected packages: speedtest-cli\n",
      "Successfully installed speedtest-cli-2.1.3\n",
      "Note: you may need to restart the kernel to use updated packages.\n"
     ]
    },
    {
     "name": "stderr",
     "output_type": "stream",
     "text": [
      "  WARNING: The scripts speedtest-cli.exe and speedtest.exe are installed in 'C:\\Users\\HP\\AppData\\Roaming\\Python\\Python312\\Scripts' which is not on PATH.\n",
      "  Consider adding this directory to PATH or, if you prefer to suppress this warning, use --no-warn-script-location.\n"
     ]
    }
   ],
   "source": [
    "pip install speedtest-cli"
   ]
  },
  {
   "cell_type": "code",
   "execution_count": 7,
   "id": "48c428b6-7c08-4186-99f2-e7c9f8f22ef5",
   "metadata": {},
   "outputs": [
    {
     "ename": "ModuleNotFoundError",
     "evalue": "No module named 'speedtest'",
     "output_type": "error",
     "traceback": [
      "\u001b[1;31m---------------------------------------------------------------------------\u001b[0m",
      "\u001b[1;31mModuleNotFoundError\u001b[0m                       Traceback (most recent call last)",
      "Cell \u001b[1;32mIn[7], line 1\u001b[0m\n\u001b[1;32m----> 1\u001b[0m \u001b[38;5;28;01mimport\u001b[39;00m \u001b[38;5;21;01mspeedtest\u001b[39;00m \u001b[38;5;28;01mas\u001b[39;00m \u001b[38;5;21;01mst\u001b[39;00m\n\u001b[0;32m      2\u001b[0m \u001b[38;5;28;01mdef\u001b[39;00m \u001b[38;5;21mSpeed_Test\u001b[39m():\n\u001b[0;32m      3\u001b[0m     test \u001b[38;5;241m=\u001b[39m st\u001b[38;5;241m.\u001b[39mSpeedtest()\n",
      "\u001b[1;31mModuleNotFoundError\u001b[0m: No module named 'speedtest'"
     ]
    }
   ],
   "source": [
    "import speedtest as st\n",
    "def Speed_Test():\n",
    "    test = st.Speedtest()\n",
    "    down_speed = test.download()\n",
    "    down_speed = round(down_speed / 10 ** 6,  2)\n",
    "    print(\"Download Speed in Mbps: \", down_speed)\n",
    "    up_speed = test.upload()\n",
    "    up_speed = round(up_speed / 10 ** 6,  2)\n",
    "    print(\"Upload Speed in Mbps: \", up_speed)\n",
    "    ping = test.results.ping\n",
    "    print(\"Ping: \", ping)\n",
    "\n",
    "Speed_Test()"
   ]
  },
  {
   "cell_type": "code",
   "execution_count": null,
   "id": "6d25e11e-b2c6-4636-89e2-2508a8116ded",
   "metadata": {},
   "outputs": [],
   "source": [
    "''' Các ví dụ còn lại sinh viên thực hiện như trong slide''"
   ]
  }
 ],
 "metadata": {
  "kernelspec": {
   "display_name": "Python [conda env:base] *",
   "language": "python",
   "name": "conda-base-py"
  },
  "language_info": {
   "codemirror_mode": {
    "name": "ipython",
    "version": 3
   },
   "file_extension": ".py",
   "mimetype": "text/x-python",
   "name": "python",
   "nbconvert_exporter": "python",
   "pygments_lexer": "ipython3",
   "version": "3.12.7"
  }
 },
 "nbformat": 4,
 "nbformat_minor": 5
}
